{
 "cells": [
  {
   "cell_type": "code",
   "execution_count": 84,
   "metadata": {},
   "outputs": [],
   "source": [
    "from data_utils import IMDBDataset\n",
    "import pickle\n",
    "import display_utils"
   ]
  },
  {
   "cell_type": "code",
   "execution_count": 89,
   "metadata": {
    "tags": []
   },
   "outputs": [],
   "source": [
    "with open('attack_results_final_threshold2_.pkl', 'rb') as f:\n",
    "    (test_list, orig_list, label_list, adv_list, dist_list) = pickle.load( f)"
   ]
  },
  {
   "cell_type": "code",
   "execution_count": 90,
   "metadata": {
    "tags": []
   },
   "outputs": [],
   "source": [
    "VOCAB_SIZE  = 50000\n",
    "with open('aux_files/dataset_%d.pkl' %VOCAB_SIZE, 'rb') as f:\n",
    "    dataset = pickle.load(f)"
   ]
  },
  {
   "cell_type": "code",
   "execution_count": 91,
   "metadata": {},
   "outputs": [
    {
     "data": {
      "text/plain": [
       "[1841, 11169, 11521, 3173, 2607, 14434, 3608, 13964, 1583, 16726]"
      ]
     },
     "execution_count": 91,
     "metadata": {},
     "output_type": "execute_result"
    }
   ],
   "source": [
    "test_list"
   ]
  },
  {
   "cell_type": "code",
   "execution_count": 104,
   "metadata": {},
   "outputs": [
    {
     "ename": "IndexError",
     "evalue": "list index out of range",
     "output_type": "error",
     "traceback": [
      "\u001b[1;31m---------------------------------------------------------------------------\u001b[0m",
      "\u001b[1;31mIndexError\u001b[0m                                Traceback (most recent call last)",
      "\u001b[1;32m<ipython-input-104-60286fde637c>\u001b[0m in \u001b[0;36m<module>\u001b[1;34m\u001b[0m\n\u001b[0;32m      5\u001b[0m \u001b[1;33m\u001b[0m\u001b[0m\n\u001b[0;32m      6\u001b[0m \u001b[0midx\u001b[0m \u001b[1;33m=\u001b[0m \u001b[1;36m10\u001b[0m\u001b[1;33m\u001b[0m\u001b[1;33m\u001b[0m\u001b[0m\n\u001b[1;32m----> 7\u001b[1;33m \u001b[1;32mif\u001b[0m \u001b[0madv_list\u001b[0m\u001b[1;33m[\u001b[0m\u001b[0midx\u001b[0m\u001b[1;33m]\u001b[0m \u001b[1;32mis\u001b[0m \u001b[1;32mNone\u001b[0m\u001b[1;33m:\u001b[0m\u001b[1;33m\u001b[0m\u001b[1;33m\u001b[0m\u001b[0m\n\u001b[0m\u001b[0;32m      8\u001b[0m     \u001b[0mprint\u001b[0m\u001b[1;33m(\u001b[0m\u001b[1;34m'Failed'\u001b[0m\u001b[1;33m)\u001b[0m\u001b[1;33m\u001b[0m\u001b[1;33m\u001b[0m\u001b[0m\n\u001b[0;32m      9\u001b[0m \u001b[1;32melse\u001b[0m\u001b[1;33m:\u001b[0m\u001b[1;33m\u001b[0m\u001b[1;33m\u001b[0m\u001b[0m\n",
      "\u001b[1;31mIndexError\u001b[0m: list index out of range"
     ]
    }
   ],
   "source": [
    "import numpy as np\n",
    "#np.random.seed(1002)\n",
    "idx_list = np.random.choice(len(dataset.test_y), 2, replace=False)\n",
    "\n",
    "\n",
    "idx = 10\n",
    "if adv_list[idx] is None:\n",
    "    print('Failed')\n",
    "else:\n",
    "    \n",
    "    #display_utils.visualize_attack(sess, model, dataset, orig_list[visual_idx], adv_list[visual_idx])\n",
    "    display_utils.visualize_attack2(dataset, test_list[idx], orig_list[idx], adv_list[idx], label_list[idx])"
   ]
  },
  {
   "cell_type": "code",
   "execution_count": 67,
   "metadata": {},
   "outputs": [
    {
     "data": {
      "text/plain": [
       "[None,\n",
       " None,\n",
       " None,\n",
       " None,\n",
       " None,\n",
       " None,\n",
       " None,\n",
       " array([   11,    17,   284,    69,    12,  1528,    25,    54,  1853,\n",
       "           41,     1,   901,     8,     1,   616, 20084,   595,   322,\n",
       "          588,    45,    22,   178,     5,    64, 42400,    99,    16,\n",
       "           11,   754,   103, 10668,     2,    22,    77,    64,    12,\n",
       "         1334,     6,  5473,     2,  1334,     6,    49,     8,    11,\n",
       "        16179,     4,  1671,     2, 15912,     0,     0,     0,     0,\n",
       "            0,     0,     0,     0,     0,     0,     0,     0,     0,\n",
       "            0,     0,     0,     0,     0,     0,     0,     0,     0,\n",
       "            0,     0,     0,     0,     0,     0,     0,     0,     0,\n",
       "            0,     0,     0,     0,     0,     0,     0,     0,     0,\n",
       "            0,     0,     0,     0,     0,     0,     0,     0,     0,\n",
       "            0,     0,     0,     0,     0,     0,     0,     0,     0,\n",
       "            0,     0,     0,     0,     0,     0,     0,     0,     0,\n",
       "            0,     0,     0,     0,     0,     0,     0,     0,     0,\n",
       "            0,     0,     0,     0,     0,     0,     0,     0,     0,\n",
       "            0,     0,     0,     0,     0,     0,     0,     0,     0,\n",
       "            0,     0,     0,     0,     0,     0,     0,     0,     0,\n",
       "            0,     0,     0,     0,     0,     0,     0,     0,     0,\n",
       "            0,     0,     0,     0,     0,     0,     0,     0,     0,\n",
       "            0,     0,     0,     0,     0,     0,     0,     0,     0,\n",
       "            0,     0,     0,     0,     0,     0,     0,     0,     0,\n",
       "            0,     0,     0,     0,     0,     0,     0,     0,     0,\n",
       "            0,     0,     0,     0,     0,     0,     0,     0,     0,\n",
       "            0,     0,     0,     0,     0,     0,     0,     0,     0,\n",
       "            0,     0,     0,     0,     0,     0,     0,     0,     0,\n",
       "            0,     0,     0,     0,     0,     0,     0,     0,     0,\n",
       "            0,     0,     0,     0,     0,     0,     0,     0,     0,\n",
       "            0,     0,     0,     0,     0,     0,     0]),\n",
       " None,\n",
       " None]"
      ]
     },
     "execution_count": 67,
     "metadata": {},
     "output_type": "execute_result"
    }
   ],
   "source": [
    "adv_list"
   ]
  },
  {
   "cell_type": "code",
   "execution_count": 106,
   "metadata": {},
   "outputs": [
    {
     "name": "stdout",
     "output_type": "stream",
     "text": [
      "Attack success rate : 80.00%\n",
      "Median percentange of modifications: 0.20% \n",
      "Mean percentange of modifications: 0.20% \n"
     ]
    }
   ],
   "source": [
    "orig_len = [np.sum(np.sign(x)) for x in orig_list]\n",
    "normalized_dist_list = [dist_list[i]/orig_len[i] for i in range(len(orig_list)) ]\n",
    "SUCCESS_THRESHOLD  = 0.25\n",
    "successful_attacks = [x < SUCCESS_THRESHOLD for x in normalized_dist_list]\n",
    "print('Attack success rate : {:.2f}%'.format(np.mean(successful_attacks)*100))\n",
    "print('Median percentange of modifications: {:.02f}% '.format(\n",
    "    np.median([x for x in normalized_dist_list if x < 1])*100))\n",
    "print('Mean percentange of modifications: {:.02f}% '.format(\n",
    "    np.mean([x for x in normalized_dist_list if x < 1])*100))\n"
   ]
  },
  {
   "cell_type": "code",
   "execution_count": 18,
   "metadata": {},
   "outputs": [
    {
     "data": {
      "text/plain": [
       "[4095,\n",
       " 15513,\n",
       " 22632,\n",
       " 3859,\n",
       " 14236,\n",
       " 5894,\n",
       " 14949,\n",
       " 3402,\n",
       " 20596,\n",
       " 12010,\n",
       " 19071,\n",
       " 17039,\n",
       " 9082,\n",
       " 17025,\n",
       " 14831,\n",
       " 6434,\n",
       " 11744,\n",
       " 10275,\n",
       " 6584,\n",
       " 14588,\n",
       " 15610,\n",
       " 4787,\n",
       " 5043,\n",
       " 7099,\n",
       " 11285,\n",
       " 5361,\n",
       " 9320,\n",
       " 1849,\n",
       " 10513,\n",
       " 10645,\n",
       " 326,\n",
       " 7074,\n",
       " 19308,\n",
       " 11829,\n",
       " 2669,\n",
       " 8185,\n",
       " 24659,\n",
       " 4268,\n",
       " 6369,\n",
       " 16047,\n",
       " 19677,\n",
       " 10416,\n",
       " 24001,\n",
       " 4484,\n",
       " 861,\n",
       " 12017,\n",
       " 6871,\n",
       " 13537,\n",
       " 24509,\n",
       " 7002,\n",
       " 12012,\n",
       " 4726,\n",
       " 22599,\n",
       " 11521,\n",
       " 602,\n",
       " 2746,\n",
       " 19708,\n",
       " 16461,\n",
       " 5419,\n",
       " 13534,\n",
       " 1454,\n",
       " 606,\n",
       " 8374,\n",
       " 216,\n",
       " 10586,\n",
       " 8840,\n",
       " 5557,\n",
       " 51,\n",
       " 20043,\n",
       " 18019,\n",
       " 10581,\n",
       " 1140,\n",
       " 22403,\n",
       " 1691,\n",
       " 19948,\n",
       " 21978,\n",
       " 3966,\n",
       " 1556,\n",
       " 1105,\n",
       " 18756,\n",
       " 15879,\n",
       " 16845,\n",
       " 1225,\n",
       " 5429,\n",
       " 9404,\n",
       " 19021,\n",
       " 8933,\n",
       " 24270,\n",
       " 7642,\n",
       " 7580,\n",
       " 9394,\n",
       " 6839,\n",
       " 13252,\n",
       " 13476,\n",
       " 6641,\n",
       " 7379,\n",
       " 12240,\n",
       " 609,\n",
       " 14110,\n",
       " 13889,\n",
       " 1711,\n",
       " 6647,\n",
       " 228,\n",
       " 1905,\n",
       " 19802,\n",
       " 13594,\n",
       " 7734,\n",
       " 5947,\n",
       " 3589,\n",
       " 4791,\n",
       " 17164,\n",
       " 2025,\n",
       " 18925,\n",
       " 4980,\n",
       " 21188,\n",
       " 3226,\n",
       " 7853,\n",
       " 21261,\n",
       " 2524,\n",
       " 13111,\n",
       " 10612,\n",
       " 12699,\n",
       " 6092,\n",
       " 1185,\n",
       " 2866,\n",
       " 8172,\n",
       " 20680,\n",
       " 18372,\n",
       " 19287,\n",
       " 21366,\n",
       " 9246,\n",
       " 2480,\n",
       " 11060,\n",
       " 6770,\n",
       " 5830,\n",
       " 22041,\n",
       " 22501,\n",
       " 16483,\n",
       " 1311,\n",
       " 2481,\n",
       " 1862,\n",
       " 4473,\n",
       " 15991,\n",
       " 17349,\n",
       " 2804,\n",
       " 16099,\n",
       " 2385,\n",
       " 17359,\n",
       " 9413,\n",
       " 8026,\n",
       " 24966,\n",
       " 13162,\n",
       " 8332,\n",
       " 16749,\n",
       " 22737,\n",
       " 23646,\n",
       " 9006,\n",
       " 22309,\n",
       " 19826,\n",
       " 1322,\n",
       " 22869,\n",
       " 7802,\n",
       " 10363,\n",
       " 8934,\n",
       " 4072,\n",
       " 14899,\n",
       " 10646,\n",
       " 12007,\n",
       " 17026,\n",
       " 21506,\n",
       " 9939,\n",
       " 5626,\n",
       " 995,\n",
       " 21380,\n",
       " 3074,\n",
       " 8871,\n",
       " 18824,\n",
       " 18936,\n",
       " 10229,\n",
       " 21426,\n",
       " 13979,\n",
       " 9471,\n",
       " 3763,\n",
       " 7350,\n",
       " 23442,\n",
       " 5123,\n",
       " 601,\n",
       " 14570,\n",
       " 18243,\n",
       " 5384,\n",
       " 6614,\n",
       " 17602,\n",
       " 11249,\n",
       " 6931,\n",
       " 7222,\n",
       " 1453,\n",
       " 7847,\n",
       " 1587,\n",
       " 240,\n",
       " 20600]"
      ]
     },
     "execution_count": 18,
     "metadata": {},
     "output_type": "execute_result"
    }
   ],
   "source": [
    "test_list"
   ]
  }
 ],
 "metadata": {
  "kernelspec": {
   "display_name": "Python 3",
   "language": "python",
   "name": "python3"
  },
  "language_info": {
   "codemirror_mode": {
    "name": "ipython",
    "version": 3
   },
   "file_extension": ".py",
   "mimetype": "text/x-python",
   "name": "python",
   "nbconvert_exporter": "python",
   "pygments_lexer": "ipython3",
   "version": "3.7.10"
  }
 },
 "nbformat": 4,
 "nbformat_minor": 4
}
